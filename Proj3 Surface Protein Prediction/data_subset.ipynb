{
 "cells": [
  {
   "cell_type": "code",
   "execution_count": 5,
   "id": "cb75efab",
   "metadata": {},
   "outputs": [],
   "source": [
    "import numpy as np\n",
    "import pandas as pd"
   ]
  },
  {
   "cell_type": "code",
   "execution_count": 20,
   "id": "37c3a236",
   "metadata": {},
   "outputs": [],
   "source": [
    "feature_path = './single-cell-features'\n",
    "\n",
    "train_df = pd.read_feather(feature_path+'/train_cite_inputs_id.feather')\n",
    "test_df = pd.read_feather(feature_path+'/test_cite_inputs_id.feather')\n",
    "\n",
    "train_cite_X = np.load(feature_path+'/train_cite_X.npy')\n",
    "test_cite_X = np.load(feature_path+'/test_cite_X.npy')\n",
    "\n",
    "train_cite_y = np.load(feature_path+'/train_cite_targets.npy') "
   ]
  },
  {
   "cell_type": "code",
   "execution_count": 18,
   "id": "91969025",
   "metadata": {},
   "outputs": [],
   "source": [
    "subset_train_cite_X = train_cite_X[:1000,:]\n",
    "subset_train_cite_y = train_cite_y[:1000,:]"
   ]
  },
  {
   "cell_type": "code",
   "execution_count": 25,
   "id": "af8111b2",
   "metadata": {},
   "outputs": [],
   "source": [
    "pd.DataFrame.to_feather(train_df.head(1000), \"subset/train_cite_inputs_id.feather\")\n",
    "pd.DataFrame.to_feather(test_df.head(1000), \"subset/test_cite_inputs_id.feather\")"
   ]
  },
  {
   "cell_type": "code",
   "execution_count": 27,
   "id": "d3504f5f",
   "metadata": {},
   "outputs": [],
   "source": [
    "np.save(\"subset/train_cite_X.npy\", train_cite_X[:1000,:])\n",
    "np.save(\"subset/train_cite_targets.npy\", train_cite_y[:1000,:])\n",
    "np.save(\"subset/test_cite_X.npy\", test_cite_X[:1000,:])"
   ]
  },
  {
   "cell_type": "code",
   "execution_count": 30,
   "id": "7157e3df",
   "metadata": {},
   "outputs": [
    {
     "data": {
      "text/plain": [
       "(70988, 140)"
      ]
     },
     "execution_count": 30,
     "metadata": {},
     "output_type": "execute_result"
    }
   ],
   "source": [
    "train_cite_y.shape"
   ]
  }
 ],
 "metadata": {
  "kernelspec": {
   "display_name": "Python 3 (ipykernel)",
   "language": "python",
   "name": "python3"
  },
  "language_info": {
   "codemirror_mode": {
    "name": "ipython",
    "version": 3
   },
   "file_extension": ".py",
   "mimetype": "text/x-python",
   "name": "python",
   "nbconvert_exporter": "python",
   "pygments_lexer": "ipython3",
   "version": "3.9.12"
  }
 },
 "nbformat": 4,
 "nbformat_minor": 5
}
